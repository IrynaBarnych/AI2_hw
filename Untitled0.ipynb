{
  "nbformat": 4,
  "nbformat_minor": 0,
  "metadata": {
    "colab": {
      "provenance": [],
      "authorship_tag": "ABX9TyNCXUggYbN4D3T3Ni2PvRs0",
      "include_colab_link": true
    },
    "kernelspec": {
      "name": "python3",
      "display_name": "Python 3"
    },
    "language_info": {
      "name": "python"
    }
  },
  "cells": [
    {
      "cell_type": "markdown",
      "metadata": {
        "id": "view-in-github",
        "colab_type": "text"
      },
      "source": [
        "<a href=\"https://colab.research.google.com/github/IrynaBarnych/AI2_hw/blob/Ex_5/Untitled0.ipynb\" target=\"_parent\"><img src=\"https://colab.research.google.com/assets/colab-badge.svg\" alt=\"Open In Colab\"/></a>"
      ]
    },
    {
      "cell_type": "code",
      "execution_count": null,
      "metadata": {
        "id": "k2PTc_4k0anF"
      },
      "outputs": [],
      "source": []
    },
    {
      "cell_type": "markdown",
      "source": [
        "Домашня робота АІ№2"
      ],
      "metadata": {
        "id": "7tP1aNXa1I71"
      }
    },
    {
      "cell_type": "markdown",
      "source": [],
      "metadata": {
        "id": "_2MFgucS1IRx"
      }
    },
    {
      "cell_type": "markdown",
      "source": [
        "Імпортуйте модуль numpy\n"
      ],
      "metadata": {
        "id": "TerkjYJr1VI5"
      }
    },
    {
      "cell_type": "code",
      "source": [
        "\n",
        "import numpy as np"
      ],
      "metadata": {
        "id": "BltLp_451eXX"
      },
      "execution_count": null,
      "outputs": []
    },
    {
      "cell_type": "markdown",
      "source": [
        "Завдання 1\n",
        "Створіть масив з парними числами між 30 і 70"
      ],
      "metadata": {
        "id": "Ro6NrxIY1qPn"
      }
    },
    {
      "cell_type": "code",
      "source": [
        "f = np.arange(30,70,2)   # Create an array of values starting at 10 in increments of 5\n",
        "print(f)"
      ],
      "metadata": {
        "colab": {
          "base_uri": "https://localhost:8080/"
        },
        "id": "-xUpnNuL1zTq",
        "outputId": "118065fd-244c-4595-c261-fd8d54647a94"
      },
      "execution_count": null,
      "outputs": [
        {
          "output_type": "stream",
          "name": "stdout",
          "text": [
            "[30 32 34 36 38 40 42 44 46 48 50 52 54 56 58 60 62 64 66 68]\n"
          ]
        }
      ]
    },
    {
      "cell_type": "markdown",
      "source": [
        "Завдання 2\n",
        "Створіть масив з 10 числами між 0(включно) та 1(не включно) див документацію\n"
      ],
      "metadata": {
        "id": "3qe3YmSS4UTL"
      }
    },
    {
      "cell_type": "code",
      "source": [
        "g = np.linspace(0., 1, num=10)\n",
        "print(g)"
      ],
      "metadata": {
        "colab": {
          "base_uri": "https://localhost:8080/"
        },
        "id": "buNvD2bG4Xr7",
        "outputId": "324a9113-4dd6-4b6e-a81f-2a18a05ffe49"
      },
      "execution_count": null,
      "outputs": [
        {
          "output_type": "stream",
          "name": "stdout",
          "text": [
            "[0.         0.11111111 0.22222222 0.33333333 0.44444444 0.55555556\n",
            " 0.66666667 0.77777778 0.88888889 1.        ]\n"
          ]
        }
      ]
    },
    {
      "cell_type": "markdown",
      "source": [
        "все-таки думаю додати endpoint=True"
      ],
      "metadata": {
        "id": "uR7SumtS-3xf"
      }
    },
    {
      "cell_type": "code",
      "source": [
        "g = np.linspace(0., 1, num=10, endpoint=False)\n",
        "print(g)"
      ],
      "metadata": {
        "colab": {
          "base_uri": "https://localhost:8080/"
        },
        "id": "EXWJoyhN_JNy",
        "outputId": "0c825dd2-fa31-4306-8cd7-ef812ecd112f"
      },
      "execution_count": null,
      "outputs": [
        {
          "output_type": "stream",
          "name": "stdout",
          "text": [
            "[0.  0.1 0.2 0.3 0.4 0.5 0.6 0.7 0.8 0.9]\n"
          ]
        }
      ]
    },
    {
      "cell_type": "markdown",
      "source": [
        "Завдання 4\n",
        "Напишіть функцію яка приймає матрицю розміру nxn та повертає матрицю розміру (n+2) x (n+2), на краях якої розміщенні 0."
      ],
      "metadata": {
        "id": "0lFuuKuvCPFA"
      }
    },
    {
      "cell_type": "markdown",
      "source": [],
      "metadata": {
        "id": "RIqG9RD6LaCh"
      }
    },
    {
      "cell_type": "code",
      "source": [
        "n = np.array([[1,2], [3,4], [5,6]])\n",
        "\n",
        "new_array = np.zeros((n.shape[0]+2, n.shape[1]+2))\n",
        "new_array[1:-1, 1:-1] = n\n",
        "print(new_array)\n"
      ],
      "metadata": {
        "colab": {
          "base_uri": "https://localhost:8080/"
        },
        "id": "FxMTlUZECRue",
        "outputId": "8ca04ed1-71e5-4ab0-ef83-9d1902a517e0"
      },
      "execution_count": null,
      "outputs": [
        {
          "output_type": "stream",
          "name": "stdout",
          "text": [
            "[[0. 0. 0. 0.]\n",
            " [0. 1. 2. 0.]\n",
            " [0. 3. 4. 0.]\n",
            " [0. 5. 6. 0.]\n",
            " [0. 0. 0. 0.]]\n"
          ]
        }
      ]
    },
    {
      "cell_type": "markdown",
      "source": [
        "Завдання 5\n",
        "У попередьньому масиві змініть тип даних. Виведіть тип даних до та після зміни"
      ],
      "metadata": {
        "id": "Z5GF3NUmLd6W"
      }
    },
    {
      "cell_type": "code",
      "source": [
        "n = np.array([[1,2], [3,4], [5,6]])\n",
        "\n",
        "print(\"Тип даних до зміни:\", n.dtype)\n",
        "n = n.astype(float)\n",
        "print(\"Тип даних після зміни:\", n.dtype)\n",
        "\n",
        "n_float = np.array(n, dtype=float)\n",
        "print(\"Тип даних після зміни на np.array():\", n_float.dtype)"
      ],
      "metadata": {
        "colab": {
          "base_uri": "https://localhost:8080/"
        },
        "id": "fIBjc_JyL8dg",
        "outputId": "036e4360-282e-4ee7-a17e-26c93ab824a2"
      },
      "execution_count": null,
      "outputs": [
        {
          "output_type": "stream",
          "name": "stdout",
          "text": [
            "Тип даних до зміни: int64\n",
            "Тип даних після зміни: float64\n",
            "Тип даних після зміни на np.array(): float64\n"
          ]
        }
      ]
    }
  ]
}