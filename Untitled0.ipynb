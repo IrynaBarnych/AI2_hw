{
  "nbformat": 4,
  "nbformat_minor": 0,
  "metadata": {
    "colab": {
      "provenance": [],
      "authorship_tag": "ABX9TyNcaD5f5E8jmtFgf9510P1k",
      "include_colab_link": true
    },
    "kernelspec": {
      "name": "python3",
      "display_name": "Python 3"
    },
    "language_info": {
      "name": "python"
    }
  },
  "cells": [
    {
      "cell_type": "markdown",
      "metadata": {
        "id": "view-in-github",
        "colab_type": "text"
      },
      "source": [
        "<a href=\"https://colab.research.google.com/github/IrynaBarnych/AI2_hw/blob/ex_10/Untitled0.ipynb\" target=\"_parent\"><img src=\"https://colab.research.google.com/assets/colab-badge.svg\" alt=\"Open In Colab\"/></a>"
      ]
    },
    {
      "cell_type": "code",
      "execution_count": null,
      "metadata": {
        "id": "k2PTc_4k0anF"
      },
      "outputs": [],
      "source": []
    },
    {
      "cell_type": "markdown",
      "source": [
        "Домашня робота АІ№2"
      ],
      "metadata": {
        "id": "7tP1aNXa1I71"
      }
    },
    {
      "cell_type": "markdown",
      "source": [],
      "metadata": {
        "id": "_2MFgucS1IRx"
      }
    },
    {
      "cell_type": "markdown",
      "source": [
        "Імпортуйте модуль numpy\n"
      ],
      "metadata": {
        "id": "TerkjYJr1VI5"
      }
    },
    {
      "cell_type": "code",
      "source": [
        "\n",
        "import numpy as np"
      ],
      "metadata": {
        "id": "BltLp_451eXX"
      },
      "execution_count": null,
      "outputs": []
    },
    {
      "cell_type": "markdown",
      "source": [
        "Завдання 1\n",
        "Створіть масив з парними числами між 30 і 70"
      ],
      "metadata": {
        "id": "Ro6NrxIY1qPn"
      }
    },
    {
      "cell_type": "code",
      "source": [
        "f = np.arange(30,70,2)   # Create an array of values starting at 10 in increments of 5\n",
        "print(f)"
      ],
      "metadata": {
        "colab": {
          "base_uri": "https://localhost:8080/"
        },
        "id": "-xUpnNuL1zTq",
        "outputId": "118065fd-244c-4595-c261-fd8d54647a94"
      },
      "execution_count": null,
      "outputs": [
        {
          "output_type": "stream",
          "name": "stdout",
          "text": [
            "[30 32 34 36 38 40 42 44 46 48 50 52 54 56 58 60 62 64 66 68]\n"
          ]
        }
      ]
    },
    {
      "cell_type": "markdown",
      "source": [
        "Завдання 2\n",
        "Створіть масив з 10 числами між 0(включно) та 1(не включно) див документацію\n"
      ],
      "metadata": {
        "id": "3qe3YmSS4UTL"
      }
    },
    {
      "cell_type": "code",
      "source": [
        "g = np.linspace(0., 1, num=10)\n",
        "print(g)"
      ],
      "metadata": {
        "colab": {
          "base_uri": "https://localhost:8080/"
        },
        "id": "buNvD2bG4Xr7",
        "outputId": "324a9113-4dd6-4b6e-a81f-2a18a05ffe49"
      },
      "execution_count": null,
      "outputs": [
        {
          "output_type": "stream",
          "name": "stdout",
          "text": [
            "[0.         0.11111111 0.22222222 0.33333333 0.44444444 0.55555556\n",
            " 0.66666667 0.77777778 0.88888889 1.        ]\n"
          ]
        }
      ]
    },
    {
      "cell_type": "markdown",
      "source": [
        "все-таки думаю додати endpoint=True"
      ],
      "metadata": {
        "id": "uR7SumtS-3xf"
      }
    },
    {
      "cell_type": "code",
      "source": [
        "g = np.linspace(0., 1, num=10, endpoint=False)\n",
        "print(g)"
      ],
      "metadata": {
        "colab": {
          "base_uri": "https://localhost:8080/"
        },
        "id": "EXWJoyhN_JNy",
        "outputId": "0c825dd2-fa31-4306-8cd7-ef812ecd112f"
      },
      "execution_count": null,
      "outputs": [
        {
          "output_type": "stream",
          "name": "stdout",
          "text": [
            "[0.  0.1 0.2 0.3 0.4 0.5 0.6 0.7 0.8 0.9]\n"
          ]
        }
      ]
    },
    {
      "cell_type": "markdown",
      "source": [
        "Завдання 4\n",
        "Напишіть функцію яка приймає матрицю розміру nxn та повертає матрицю розміру (n+2) x (n+2), на краях якої розміщенні 0."
      ],
      "metadata": {
        "id": "0lFuuKuvCPFA"
      }
    },
    {
      "cell_type": "markdown",
      "source": [],
      "metadata": {
        "id": "RIqG9RD6LaCh"
      }
    },
    {
      "cell_type": "code",
      "source": [
        "n = np.array([[1,2], [3,4], [5,6]])\n",
        "\n",
        "new_array = np.zeros((n.shape[0]+2, n.shape[1]+2))\n",
        "new_array[1:-1, 1:-1] = n\n",
        "print(new_array)\n"
      ],
      "metadata": {
        "colab": {
          "base_uri": "https://localhost:8080/"
        },
        "id": "FxMTlUZECRue",
        "outputId": "8ca04ed1-71e5-4ab0-ef83-9d1902a517e0"
      },
      "execution_count": null,
      "outputs": [
        {
          "output_type": "stream",
          "name": "stdout",
          "text": [
            "[[0. 0. 0. 0.]\n",
            " [0. 1. 2. 0.]\n",
            " [0. 3. 4. 0.]\n",
            " [0. 5. 6. 0.]\n",
            " [0. 0. 0. 0.]]\n"
          ]
        }
      ]
    },
    {
      "cell_type": "markdown",
      "source": [
        "Завдання 5\n",
        "У попередьньому масиві змініть тип даних. Виведіть тип даних до та після зміни"
      ],
      "metadata": {
        "id": "Z5GF3NUmLd6W"
      }
    },
    {
      "cell_type": "code",
      "source": [
        "n = np.array([[1,2], [3,4], [5,6]])\n",
        "\n",
        "print(\"Тип даних до зміни:\", n.dtype)\n",
        "n = n.astype(float)\n",
        "print(\"Тип даних після зміни:\", n.dtype)\n",
        "\n",
        "n_float = np.array(n, dtype=float)\n",
        "print(\"Тип даних після зміни на np.array():\", n_float.dtype)"
      ],
      "metadata": {
        "colab": {
          "base_uri": "https://localhost:8080/"
        },
        "id": "fIBjc_JyL8dg",
        "outputId": "036e4360-282e-4ee7-a17e-26c93ab824a2"
      },
      "execution_count": null,
      "outputs": [
        {
          "output_type": "stream",
          "name": "stdout",
          "text": [
            "Тип даних до зміни: int64\n",
            "Тип даних після зміни: float64\n",
            "Тип даних після зміни на np.array(): float64\n"
          ]
        }
      ]
    },
    {
      "cell_type": "markdown",
      "source": [
        "Завдання 6\n",
        "У даному масиві замініть елементи, які дорівнюють\\більші\\менші за var на -1"
      ],
      "metadata": {
        "id": "DzN018CsP9vu"
      }
    },
    {
      "cell_type": "code",
      "source": [
        "x = np.array([1, 5, 3, 8, 6, 5, 7, 4])\n",
        "var = 5\n",
        "x[(x == var) | (x > var) | (x < var)] = -1\n",
        "print(x)\n",
        "\n",
        "\n",
        "x[(x <= var)] = -1  # другий варіант\n",
        "print(x)"
      ],
      "metadata": {
        "colab": {
          "base_uri": "https://localhost:8080/"
        },
        "id": "OYIG3YGJQHwp",
        "outputId": "7ad7ea03-eef9-4136-853a-57285201899a"
      },
      "execution_count": null,
      "outputs": [
        {
          "output_type": "stream",
          "name": "stdout",
          "text": [
            "[-1 -1 -1 -1 -1 -1 -1 -1]\n",
            "[-1 -1 -1 -1 -1 -1 -1 -1]\n"
          ]
        }
      ]
    },
    {
      "cell_type": "markdown",
      "source": [
        "Завдання 7\n",
        "Замініть пропущені значення матриці(np.nan) на -1\n",
        "Дивись np.isnan"
      ],
      "metadata": {
        "id": "3a6EleundT_g"
      }
    },
    {
      "cell_type": "code",
      "source": [
        "X = np.array([[1, 2, np.nan, 4],\n",
        "              [5, np.nan, np.nan, 4],\n",
        "              [np.nan, 10, 11, np.nan]])\n",
        "X[np.isnan(X)] = -1\n",
        "\n",
        "print(X)"
      ],
      "metadata": {
        "colab": {
          "base_uri": "https://localhost:8080/"
        },
        "id": "qiuaaNfrdU_F",
        "outputId": "1510b933-f971-4832-de82-28df7a2e2217"
      },
      "execution_count": null,
      "outputs": [
        {
          "output_type": "stream",
          "name": "stdout",
          "text": [
            "[[ 1.  2. -1.  4.]\n",
            " [ 5. -1. -1.  4.]\n",
            " [-1. 10. 11. -1.]]\n"
          ]
        }
      ]
    },
    {
      "cell_type": "markdown",
      "source": [
        "Завдання 8\n",
        "Створіть матрицю розміру 4х6 з випадковими числами. Змініть її розмір на 3х8"
      ],
      "metadata": {
        "id": "JrJj2Uibfwft"
      }
    },
    {
      "cell_type": "markdown",
      "source": [],
      "metadata": {
        "id": "xjra96rHtobT"
      }
    },
    {
      "cell_type": "code",
      "source": [
        "array = np.random.random((4,6))\n",
        "print(array)\n",
        "new_array = array.reshape(3, 8)\n",
        "print(new_array)"
      ],
      "metadata": {
        "colab": {
          "base_uri": "https://localhost:8080/"
        },
        "id": "zWjRUBbIf2q9",
        "outputId": "ff6fa1c7-32da-4ed1-b874-7be79b92e360"
      },
      "execution_count": null,
      "outputs": [
        {
          "output_type": "stream",
          "name": "stdout",
          "text": [
            "[[0.07507259 0.00232139 0.5830011  0.00111533 0.26919259 0.48546601]\n",
            " [0.85592528 0.83313998 0.55987619 0.22830892 0.93141129 0.20437248]\n",
            " [0.46750413 0.33496237 0.02418246 0.41445116 0.91885771 0.04424298]\n",
            " [0.39368934 0.1255043  0.38214004 0.20075468 0.80206182 0.00959781]]\n",
            "[[0.07507259 0.00232139 0.5830011  0.00111533 0.26919259 0.48546601\n",
            "  0.85592528 0.83313998]\n",
            " [0.55987619 0.22830892 0.93141129 0.20437248 0.46750413 0.33496237\n",
            "  0.02418246 0.41445116]\n",
            " [0.91885771 0.04424298 0.39368934 0.1255043  0.38214004 0.20075468\n",
            "  0.80206182 0.00959781]]\n"
          ]
        }
      ]
    },
    {
      "cell_type": "markdown",
      "source": [
        "Завдання 9\n",
        "Створіть матрицю з одиниць розміром 3х4. Знайдіть середнє арифметичне(mean) кожного стовпчика"
      ],
      "metadata": {
        "id": "50kSaiEpts51"
      }
    },
    {
      "cell_type": "code",
      "source": [
        "array = np.ones(4,6)\n",
        "column_array = np.mean(array, axis=0)\n",
        "print(\"Матриця з одиниць:\")\n",
        "print(array)\n",
        "print(\"Середнє арифметичне кожного стовпчика:\")\n",
        "print(column_array)"
      ],
      "metadata": {
        "colab": {
          "base_uri": "https://localhost:8080/"
        },
        "id": "IVhWjcQjtvaB",
        "outputId": "02ae7355-d373-4828-c718-7dba10d8778c"
      },
      "execution_count": null,
      "outputs": [
        {
          "output_type": "stream",
          "name": "stdout",
          "text": [
            "Матриця з одиниць:\n",
            "[[1. 1. 1. 1. 1. 1.]\n",
            " [1. 1. 1. 1. 1. 1.]\n",
            " [1. 1. 1. 1. 1. 1.]\n",
            " [1. 1. 1. 1. 1. 1.]]\n",
            "Середнє арифметичне кожного стовпчика:\n",
            "[1. 1. 1. 1. 1. 1.]\n"
          ]
        }
      ]
    },
    {
      "cell_type": "markdown",
      "source": [
        "Завдання 10\n",
        "Створіть випадкову матрицю розміром 5х6. Округліть значення до одного знаку після коми(np.round). Розмістіть стовпчики так, щоб значення в першому рядку були відсортовані за зростанням"
      ],
      "metadata": {
        "id": "Oge-Tb_sv3M1"
      }
    },
    {
      "cell_type": "code",
      "source": [
        "array = np.random.rand(5, 6)\n",
        "\n",
        "round_array = np.round(array, decimals=1)\n",
        "\n",
        "print(\"Матриця:\")\n",
        "print(array)\n",
        "print(\"Матриця після округлення:\")\n",
        "print(round_array)\n",
        "\n",
        "# не можу зрозуміти, як відсортовувати"
      ],
      "metadata": {
        "colab": {
          "base_uri": "https://localhost:8080/"
        },
        "id": "JhPDE8KMv4ON",
        "outputId": "481274f7-c400-4a7d-b3ab-03dad4ddaf85"
      },
      "execution_count": null,
      "outputs": [
        {
          "output_type": "stream",
          "name": "stdout",
          "text": [
            "Матриця:\n",
            "[[0.31429034 0.45493034 0.9209224  0.8066857  0.9228601  0.19946337]\n",
            " [0.61497137 0.3808406  0.68963059 0.43051957 0.32440862 0.02067154]\n",
            " [0.26149625 0.97056999 0.09788246 0.2175491  0.52094906 0.10176037]\n",
            " [0.7503893  0.17305384 0.58014599 0.19334303 0.99631361 0.89924132]\n",
            " [0.92428896 0.17351794 0.78056644 0.51923949 0.60115137 0.75350712]]\n",
            "Матриця після округлення:\n",
            "[[0.3 0.5 0.9 0.8 0.9 0.2]\n",
            " [0.6 0.4 0.7 0.4 0.3 0. ]\n",
            " [0.3 1.  0.1 0.2 0.5 0.1]\n",
            " [0.8 0.2 0.6 0.2 1.  0.9]\n",
            " [0.9 0.2 0.8 0.5 0.6 0.8]]\n"
          ]
        }
      ]
    }
  ]
}